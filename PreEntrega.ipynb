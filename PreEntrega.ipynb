{
  "cells": [
    {
      "cell_type": "markdown",
      "id": "a48ba216",
      "metadata": {
        "id": "a48ba216"
      },
      "source": [
        "# 📘 Pre-entrega\n",
        "\n",
        "**Nombre del alumno:**  Capcha Estrada Roberto\n"
      ]
    },
    {
      "cell_type": "markdown",
      "id": "9685f3f6",
      "metadata": {
        "id": "9685f3f6"
      },
      "source": [
        "### 1️⃣ Carga de datos"
      ]
    },
    {
      "cell_type": "code",
      "execution_count": null,
      "id": "b4477837",
      "metadata": {
        "id": "b4477837"
      },
      "outputs": [],
      "source": [
        "import pandas as pd\n",
        "import numpy as np"
      ]
    },
    {
      "cell_type": "code",
      "execution_count": null,
      "id": "HOPVaocJFJ2x",
      "metadata": {
        "id": "HOPVaocJFJ2x"
      },
      "outputs": [],
      "source": [
        "# Monto mi drive\n",
        "from google.colab import drive\n",
        "drive.mount('/content/drive')"
      ]
    },
    {
      "cell_type": "code",
      "execution_count": null,
      "id": "aKfY2v-LFXgu",
      "metadata": {
        "id": "aKfY2v-LFXgu"
      },
      "outputs": [],
      "source": [
        "# Verifico que los archivos csv se encuentren en la carpeta datasets\n",
        "import os\n",
        "os.listdir('/content/drive/MyDrive/datasets')"
      ]
    },
    {
      "cell_type": "code",
      "execution_count": null,
      "id": "ivP8936YFtN5",
      "metadata": {
        "id": "ivP8936YFtN5"
      },
      "outputs": [],
      "source": [
        "# Defino las rutas de los datasets y los cargo como dataframes\n",
        "ruta_ventas = '/content/drive/MyDrive/datasets/ventas.csv'\n",
        "ruta_marketing = '/content/drive/MyDrive/datasets/marketing.csv'\n",
        "ruta_clientes = '/content/drive/MyDrive/datasets/clientes.csv'\n",
        "\n",
        "df_ventas = pd.read_csv(ruta_ventas)\n",
        "df_marketing = pd.read_csv(ruta_marketing)\n",
        "df_clientes = pd.read_csv(ruta_clientes)"
      ]
    },
    {
      "cell_type": "code",
      "execution_count": null,
      "id": "7M1Exb8mHtbX",
      "metadata": {
        "id": "7M1Exb8mHtbX"
      },
      "outputs": [],
      "source": [
        "# Compruebo que se hayan cargado correctamente.\n",
        "print(\"\\n****** Archivo ventas.csv ******\")\n",
        "print(\"Shape :\",df_ventas.shape)\n",
        "display(df_ventas.head())\n",
        "print()\n",
        "print(\"_\"*80)\n",
        "print(\"\\n****** Archivo marketing.csv ******\")\n",
        "print(\"Shape :\",df_marketing.shape)\n",
        "display(df_marketing.head())\n",
        "print()\n",
        "print(\"_\"*80)\n",
        "print(\"\\n****** Archivo clientes.csv ******\")\n",
        "print(\"Shape :\",df_clientes.shape)\n",
        "display(df_clientes.head())\n",
        "print(\"_\"*80)"
      ]
    },
    {
      "cell_type": "markdown",
      "id": "0ce86d9f",
      "metadata": {
        "id": "0ce86d9f"
      },
      "source": [
        "\n",
        "### 2️⃣ Análisis exploratorio inicial"
      ]
    },
    {
      "cell_type": "code",
      "execution_count": null,
      "id": "8721fd18",
      "metadata": {
        "id": "8721fd18"
      },
      "outputs": [],
      "source": [
        "# Función para realizar un análisis exploratorio inicial de los DataFrames.\n",
        "\n",
        "def eda(df, nombre):\n",
        "    print(f\"***** {nombre} *****\")\n",
        "    print(\"_\" * 50)\n",
        "    print()\n",
        "    print(\"Info:\")\n",
        "    display(df.info())\n",
        "    print(\"_\" * 50)\n",
        "    print()\n",
        "    print(\"Shape:\", df.shape)\n",
        "    print(\"_\" * 50)\n",
        "    print()\n",
        "    print(\"Columnas:\", list(df.columns))\n",
        "    print(\"_\" * 50)\n",
        "    print()\n",
        "    print(\"Tipos de datos (dtypes):\")\n",
        "    print(df.dtypes)\n",
        "    print(\"_\" * 50)\n",
        "    print()\n",
        "    print(\"\\nNulos por columna:\")\n",
        "    print(df.isna().sum().to_frame(\"nulos\"))\n",
        "    print(\"_\" * 50)\n",
        "    print()\n",
        "    print(\"\\nPrimeras filas:\")\n",
        "    display(df.head(4))\n",
        "    print(\"_\" * 50)\n",
        "    print()\n",
        "    print(\"\\nUltimas filas:\")\n",
        "    display(df.tail(4))\n",
        "    print(\"_\" * 50)\n",
        "    print()\n",
        "    print(\"\\nDescribe (numérico):\")\n",
        "    display(df.describe(include='number').round(2))\n",
        "    print(\"_\"*80)"
      ]
    },
    {
      "cell_type": "code",
      "execution_count": null,
      "id": "UcGqvX7Vu9Vi",
      "metadata": {
        "id": "UcGqvX7Vu9Vi"
      },
      "outputs": [],
      "source": [
        "# *************  EDA VENTAS  **************\n",
        "\n",
        "eda(df_ventas,\"Ventas (EDA)\")"
      ]
    },
    {
      "cell_type": "markdown",
      "id": "ykbH6jlTtSwH",
      "metadata": {
        "id": "ykbH6jlTtSwH"
      },
      "source": [
        "### ***Resumen***\n",
        "\n",
        "Al realizar el análisis exploratorio de **Ventas.csv** se observa:\n",
        "\n",
        "\n",
        "1.   El dataframe posee 3035 filas y 6 columnas\n",
        "2.   La columna Precio es object y debería ser flotante (lleva el signo $ delante del número)\n",
        "1.   La columna Fecha es object y debería ser datetime\n",
        "4.   Hay cuatro campos nulos (dos en precio y dos en cantidad)\n",
        "\n",
        "\n",
        "\n"
      ]
    },
    {
      "cell_type": "code",
      "execution_count": null,
      "id": "Z9EtiLQ925ho",
      "metadata": {
        "id": "Z9EtiLQ925ho"
      },
      "outputs": [],
      "source": [
        "# EDA MARKETING\n",
        "\n",
        "eda(df_marketing,\"Marketing (EDA)\")"
      ]
    },
    {
      "cell_type": "markdown",
      "id": "Cs9ggOREzOsH",
      "metadata": {
        "id": "Cs9ggOREzOsH"
      },
      "source": [
        "### ***Resumen***\n",
        "\n",
        "Al realizar el análisis exploratorio de **Marketing.csv** se observa:\n",
        "\n",
        "\n",
        "1.   El dataframe posee 90 filas y 6 columnas\n",
        "1.   Las columnas fecha_inicio y fecha_fin son object y deberían ser datetime\n",
        "4.   No hay campos nulos"
      ]
    },
    {
      "cell_type": "code",
      "execution_count": null,
      "id": "xbE9Ku_925dv",
      "metadata": {
        "id": "xbE9Ku_925dv"
      },
      "outputs": [],
      "source": [
        "# EDA CLIENTES\n",
        "eda(df_clientes,\"Clientes (EDA)\")"
      ]
    },
    {
      "cell_type": "markdown",
      "id": "Cprfr1Be0i2m",
      "metadata": {
        "id": "Cprfr1Be0i2m"
      },
      "source": [
        "### ***Resumen***\n",
        "\n",
        "Al realizar el análisis exploratorio de **Clientes.csv** se observa:\n",
        "\n",
        "\n",
        "1.   El dataframe posee 567 filas y 6 columnas\n",
        "1.   Las columnas poseen el tipo de dato correcto.\n",
        "4.   No hay campos nulos"
      ]
    },
    {
      "cell_type": "markdown",
      "id": "3dfc633c",
      "metadata": {
        "id": "3dfc633c"
      },
      "source": [
        "### 3️⃣ Calidad de los datos"
      ]
    },
    {
      "cell_type": "code",
      "execution_count": null,
      "id": "-eEHyvmYA6P4",
      "metadata": {
        "id": "-eEHyvmYA6P4"
      },
      "outputs": [],
      "source": [
        "# Función para identificar los duplicados\n",
        "\n",
        "def duplicados(df, nombre,clave=None):\n",
        "   print(f\"***** Duplicados en {nombre} *****\")\n",
        "   print(\"_\" * 50)\n",
        "   print()\n",
        "   dup_rows = df.duplicated(keep=False).sum()\n",
        "   print(\"Filas duplicadas (exactas):\", dup_rows)\n",
        "   if clave and clave in df.columns:\n",
        "        dup_key = df[clave].duplicated(keep=False).sum()\n",
        "        print(f\"Duplicados por clave '{clave}':\", dup_key)\n",
        "        if dup_key > 0:\n",
        "             duplicados_ordenados = (\n",
        "                df[df[clave].duplicated(keep=False)][clave]\n",
        "                .value_counts()                # Cuenta cuántas veces aparece cada valor\n",
        "                .sort_values(ascending=False)   # Ordena de mayor a menor (más duplicados arriba)\n",
        "              )\n",
        "             print(\"\\n🔁 Top valores duplicados más frecuentes:\")\n",
        "             # Mostrar solo los primeros 10 (los más repetidos)\n",
        "             display(duplicados_ordenados.head(10))\n",
        "        else:\n",
        "            print(f\"No se encontraron duplicados en la clave '{clave}'.\")\n",
        "   else:\n",
        "        # Si la clave no fue pasada o no existe en el DataFrame\n",
        "        if clave:\n",
        "            print(f\"La clave '{clave}' no existe en el DataFrame.\")\n",
        "        else:\n",
        "            print(\"No se indicó una clave para analizar duplicados por columna.\")"
      ]
    },
    {
      "cell_type": "code",
      "execution_count": null,
      "id": "UQOooFUOKNM6",
      "metadata": {
        "id": "UQOooFUOKNM6"
      },
      "outputs": [],
      "source": [
        "duplicados(df_ventas,\"Ventas\",clave=\"id_venta\")"
      ]
    },
    {
      "cell_type": "code",
      "execution_count": null,
      "id": "OtVuSIqKK9YL",
      "metadata": {
        "id": "OtVuSIqKK9YL"
      },
      "outputs": [],
      "source": [
        "duplicados(df_marketing,\"Marketing\",clave=\"id_campanha\")\n"
      ]
    },
    {
      "cell_type": "code",
      "execution_count": null,
      "id": "_3iOk9HMLViO",
      "metadata": {
        "id": "_3iOk9HMLViO"
      },
      "outputs": [],
      "source": [
        "duplicados(df_clientes,\"Clientes\",clave=\"id_cliente\")"
      ]
    },
    {
      "cell_type": "markdown",
      "id": "6df40e84",
      "metadata": {
        "id": "6df40e84"
      },
      "source": [
        "## 🧹 Etapa 2: Preprocesamiento y Limpieza de Datos\n",
        "**Objetivo:** Demostrar conocimiento de las técnicas de limpieza y transformación de datos."
      ]
    },
    {
      "cell_type": "markdown",
      "id": "d824f905",
      "metadata": {
        "id": "d824f905"
      },
      "source": [
        "### 4️⃣ Limpieza de datos"
      ]
    },
    {
      "cell_type": "code",
      "execution_count": null,
      "id": "31a4417f",
      "metadata": {
        "id": "31a4417f"
      },
      "outputs": [],
      "source": [
        "# Limpio el conjunto de datos eliminando duplicados y caracteres no deseados.\n",
        "\n",
        "# Primero creo copias independientes para no modificar los df originales\n",
        "\n",
        "df_ventas_clean = df_ventas.copy()\n",
        "df_marketing_clean = df_marketing.copy()\n",
        "df_clientes_clean = df_clientes.copy()"
      ]
    },
    {
      "cell_type": "code",
      "execution_count": null,
      "id": "fKQ1xPQHTTWp",
      "metadata": {
        "id": "fKQ1xPQHTTWp"
      },
      "outputs": [],
      "source": [
        "# Elimino filas duplicadas completas en cada df\n",
        "\n",
        "df_ventas_clean = df_ventas_clean.drop_duplicates()\n",
        "df_marketing_clean = df_marketing_clean.drop_duplicates()\n",
        "df_clientes_clean = df_clientes_clean.drop_duplicates()\n",
        "\n"
      ]
    },
    {
      "cell_type": "code",
      "execution_count": null,
      "id": "h8L82vNtiEkJ",
      "metadata": {
        "id": "h8L82vNtiEkJ"
      },
      "outputs": [],
      "source": [
        "# Verifico que ya no existan duplicados en los df_clean\n",
        "\n",
        "print()\n",
        "duplicados(df_ventas_clean,\"Ventas\",clave=\"id_venta\")\n",
        "print(\"Shape:  \", df_ventas_clean.shape)\n",
        "print(\"_\" * 50)\n",
        "print()\n",
        "duplicados(df_marketing_clean,\"Marketing\",clave=\"id_campanha\")\n",
        "print(\"Shape:  \", df_marketing_clean.shape)\n",
        "print(\"_\" * 50)\n",
        "print()\n",
        "duplicados(df_clientes_clean,\"Clientes\",clave=\"id_cliente\")\n",
        "print(\"Shape:  \", df_clientes_clean.shape)\n",
        "print(\"_\" * 50)"
      ]
    },
    {
      "cell_type": "code",
      "execution_count": null,
      "id": "e5Hb5ktMjJPx",
      "metadata": {
        "id": "e5Hb5ktMjJPx"
      },
      "outputs": [],
      "source": [
        "# Normalizo fechas\n",
        "\n",
        "def fecha_norm (df):\n",
        "  flag=True\n",
        "  for col in df.columns:\n",
        "        if \"fecha\" in col.lower():  # detecta columnas con la palabra \"fecha\"\n",
        "            df[col] = pd.to_datetime(df[col], errors=\"coerce\", dayfirst=True)\n",
        "            print(f\"Columna '{col}' normalizada a '{df[col].dtypes}'\")\n",
        "            flag=False\n",
        "            print(\"-\" * 50)\n",
        "\n",
        "  if flag:\n",
        "      print(\"No se encontraron columnas con el patrón 'fecha' en el DataFrame.\")\n"
      ]
    },
    {
      "cell_type": "code",
      "execution_count": null,
      "id": "CR7UfUb3o32D",
      "metadata": {
        "id": "CR7UfUb3o32D"
      },
      "outputs": [],
      "source": [
        "fecha_norm(df_ventas_clean)\n"
      ]
    },
    {
      "cell_type": "code",
      "execution_count": null,
      "id": "j_Y0lPnyrDNr",
      "metadata": {
        "id": "j_Y0lPnyrDNr"
      },
      "outputs": [],
      "source": [
        "fecha_norm(df_marketing_clean)"
      ]
    },
    {
      "cell_type": "code",
      "execution_count": null,
      "id": "cUdEpdqTrFPC",
      "metadata": {
        "id": "cUdEpdqTrFPC"
      },
      "outputs": [],
      "source": [
        "fecha_norm(df_clientes_clean)"
      ]
    },
    {
      "cell_type": "code",
      "execution_count": null,
      "id": "cGg_sfxAjTkZ",
      "metadata": {
        "id": "cGg_sfxAjTkZ"
      },
      "outputs": [],
      "source": [
        "# Función para normalizar texto\n",
        "\n",
        "def normalizar_texto(df):\n",
        "    for col in df.select_dtypes(include=\"object\").columns:\n",
        "        df[col] = (                                 # Usar () cuando va en distintas lineas\n",
        "            df[col]\n",
        "            .astype(str)                              # Convierte cualquier tipo a string\n",
        "            .str.strip()                               # Elimina espacios al inicio y final\n",
        "            .str.replace(r\"[\\u200b\\t\\r\\n]\", \"\", regex=True) # Borra tabs, saltos, etc\n",
        "            .str.replace(\" +\", \" \", regex=True)             # Reemplaza espacios consecutivos x 1\n",
        "            .str.title()                               # Convierte a Título\n",
        "        )\n",
        "\n",
        "        #df[col] = df[col].astype(str).str.strip().str.replace(r\"[\\u200b\\t\\r\\n]\", \"\", regex=True).str.replace(\" +\", \" \", regex=True).str.title()\n",
        "    return df\n"
      ]
    },
    {
      "cell_type": "code",
      "execution_count": null,
      "id": "MzKdAWxO_Vd0",
      "metadata": {
        "id": "MzKdAWxO_Vd0"
      },
      "outputs": [],
      "source": [
        "df_ventas_clean = normalizar_texto(df_ventas_clean)\n",
        "print(\"-\" * 100)\n",
        "print(\"Texto normalizado en df_ventas_clean\")\n",
        "df_marketing_clean = normalizar_texto(df_marketing_clean)\n",
        "print(\"-\" * 100)\n",
        "print(\"Texto normalizado en df_marketing_clean\")\n",
        "df_clientes_clean = normalizar_texto(df_clientes_clean)\n",
        "print(\"-\" * 100)\n",
        "print(\"Texto normalizado en df_clientes_clean\")"
      ]
    },
    {
      "cell_type": "code",
      "execution_count": null,
      "id": "J5uJoYYcjcM6",
      "metadata": {
        "id": "J5uJoYYcjcM6"
      },
      "outputs": [],
      "source": [
        "# Normalizo campos numéricos\n",
        "\n",
        "# Columnas de PRECIO\n",
        "\n",
        "def normalizar_precio(df):\n",
        "  for col in df.columns:\n",
        "    flag=True\n",
        "    if \"precio\" in col.lower():\n",
        "      df[col]=df[col].astype(str)\n",
        "      df[col]=df[col].str.replace(\"$\",\"\",regex=False)\n",
        "      df[col]=df[col].str.replace(\",\",\"\",regex=False)\n",
        "      df[col]=df[col].str.strip()\n",
        "      df[col]=pd.to_numeric(df[col],errors=\"coerce\")\n",
        "      print(\"Precio normalizado en df_ventas_clean\")\n",
        "      flag=False\n",
        "      print(\"-\" * 50)\n",
        "\n",
        "  if flag:\n",
        "      print(\"No se encontraron columnas con el patrón 'precio' en el DataFrame.\")\n",
        "      print(\"-\" * 50)\n",
        "\n",
        "  return df\n",
        "\n",
        "\n",
        "\n",
        "  # CANTIDAD / Cambia de flotante a entero\n",
        "\n",
        "def normalizar_flot_a_int(df,col):\n",
        "  #df[col]=df[col].astype(str)\n",
        "  #df[col]=df[col].str.replace(\".0\",\"\",regex=False)\n",
        "  df[col]=pd.to_numeric(df[col],errors=\"coerce\").astype(\"Int64\")\n",
        "  return df\n",
        "#\n",
        "  #if \"cantidad\" in ventas_clean.columns:\n",
        "    #ventas_clean[\"cantidad\"] = pd.to_numeric(\n",
        "     #   ventas_clean[\"cantidad\"], errors=\"coerce\"\n",
        "    #).astype(\"Int64\")\n",
        "    # .astype(\"Int64\") usa el tipo entero de pandas que permite valores nulos (NaN)"
      ]
    },
    {
      "cell_type": "code",
      "execution_count": null,
      "id": "cGXA6mqC_1i8",
      "metadata": {
        "id": "cGXA6mqC_1i8"
      },
      "outputs": [],
      "source": [
        "df_ventas_clean = normalizar_precio(df_ventas_clean)\n",
        "df_ventas_clean = normalizar_flot_a_int(df_ventas_clean,\"cantidad\")\n",
        "print(\"-\" * 100)\n"
      ]
    },
    {
      "cell_type": "code",
      "execution_count": null,
      "id": "BSmGRZxPBjWh",
      "metadata": {
        "id": "BSmGRZxPBjWh"
      },
      "outputs": [],
      "source": [
        "# Verifico que los tipos de datos esten correctos en cada dataframe.\n",
        "\n",
        "print(\"\\n****** Archivo ventas.csv ******\")\n",
        "print(\"Shape :\",df_ventas_clean.shape)\n",
        "print(\"Dtypes:\")\n",
        "print(df_ventas_clean.dtypes)\n",
        "display(df_ventas_clean.head())\n",
        "print()\n",
        "print(\"_\"*80)\n",
        "print(\"\\n****** Archivo marketing.csv ******\")\n",
        "print(\"Shape :\",df_marketing_clean.shape)\n",
        "print(\"Dtypes:\")\n",
        "print(df_marketing_clean.dtypes)\n",
        "display(df_marketing_clean.head())\n",
        "print()\n",
        "print(\"_\"*80)\n",
        "print(\"\\n****** Archivo clientes.csv ******\")\n",
        "print(\"Shape :\",df_clientes_clean.shape)\n",
        "print(\"Dtypes:\")\n",
        "print(df_clientes_clean.dtypes)\n",
        "display(df_clientes_clean.head())\n",
        "print(\"_\"*80)"
      ]
    },
    {
      "cell_type": "code",
      "execution_count": null,
      "id": "ok-MkHxNoaaA",
      "metadata": {
        "id": "ok-MkHxNoaaA"
      },
      "outputs": [],
      "source": [
        "# Guardo los DF en archivos .csv\n",
        "\n",
        "df_ventas_clean.info()\n",
        "df_ventas_clean.to_csv(\"/content/drive/MyDrive/datasets/ventas_clean.csv\", index=False)\n",
        "df_clientes_clean.to_csv(\"/content/drive/MyDrive/datasets/clientes_clean.csv\", index=False)\n",
        "df_marketing_clean.to_csv(\"/content/drive/MyDrive/datasets/marketing_clean.csv\", index=False)\n",
        "\n",
        "print(\"✅ Archivos guardados: ventas_clean.csv, clientes_clean.csv, marketing_clean.csv\")"
      ]
    },
    {
      "cell_type": "markdown",
      "id": "8922107d",
      "metadata": {
        "id": "8922107d"
      },
      "source": [
        "### 5️⃣ Transformación de datos"
      ]
    },
    {
      "cell_type": "code",
      "execution_count": null,
      "id": "422b99c6",
      "metadata": {
        "id": "422b99c6"
      },
      "outputs": [],
      "source": [
        "# Crear una tabla de ventas que muestre solo los productos con alto rendimiento.\n",
        "# Calcular el percentil 80\n",
        "# Filtrar los productos que superen ese umbral en ventas.\n",
        "\n",
        "# Calculo el ingreso y creo un nuevo df con la columna \"ingreso\"\n",
        "df_ventas_ingresos = df_ventas_clean.assign(ingreso = df_ventas_clean[\"precio\"] * df_ventas_clean[\"cantidad\"])\n",
        "\n",
        "# Agrupo filas y obtengo métricas\n",
        "resumen_prod = (\n",
        "    df_ventas_ingresos.groupby(by=\"producto\",dropna=False,as_index=False,observed=False)\n",
        "    .agg(\n",
        "        ingreso_total=('ingreso', 'sum'),\n",
        "        unidades=('cantidad', 'sum'),\n",
        "        precio_promedio=('precio', 'mean'),\n",
        "        registros=('ingreso', 'size'))\n",
        ")\n",
        "\n",
        "# Redondeo el 'precio_promedio'\n",
        "resumen_prod['precio_promedio'] = resumen_prod['precio_promedio'].round(2)\n",
        "\n",
        "#obtengo percentil 80\n",
        "p80_ingreso=resumen_prod[\"ingreso_total\"].quantile(q=0.8,interpolation=\"linear\")\n",
        "#print(\"Percentil 80: \",p80_ingreso.round(2))\n",
        "\n",
        "# Filtro los productos de alto rendimiento y ordeno de mayor a menor\n",
        "prod_alto_rendimiento = (\n",
        "    resumen_prod.query(\"ingreso_total >= @p80_ingreso\",engine=\"python\")\n",
        "    .sort_values(by=[\"ingreso_total\",\"unidades\"],ascending=[False,False],ignore_index=True)\n",
        ")\n",
        "\n",
        "# Muestro resultados\n",
        "print()\n",
        "print(\"**  Columna: Producto  **\")\n",
        "print(f\"Umbral (percentil 80) de ingreso_total: {float(p80_ingreso):,.2f}\")\n",
        "print(\"✅ Productos de ALTO RENDIMIENTO (top 20% por ingreso):\")\n",
        "display(prod_alto_rendimiento.head(20))"
      ]
    },
    {
      "cell_type": "markdown",
      "id": "6fcd4941",
      "metadata": {
        "id": "6fcd4941"
      },
      "source": [
        "### 6️⃣ Agregación"
      ]
    },
    {
      "cell_type": "code",
      "execution_count": null,
      "id": "c9e9ff6c",
      "metadata": {
        "id": "c9e9ff6c"
      },
      "outputs": [],
      "source": [
        "# TODO: Resumir las ventas por categoría de producto y analizar los ingresos generados.\n",
        "# Sugerencia: usar .groupby() y .agg() para generar métricas como suma y promedio.\n",
        "\n",
        "# Calculo el ingreso y creo un nuevo df con la columna \"ingreso\"\n",
        "df_ventas_cat = df_ventas_clean.assign(ingreso = df_ventas_clean[\"precio\"] * df_ventas_clean[\"cantidad\"])\n",
        "\n",
        "# Agrupo filas y obtengo métricas\n",
        "resumen_cat = (\n",
        "    df_ventas_cat.groupby(by=\"categoria\",dropna=False,as_index=False)\n",
        "    .agg(\n",
        "        ingreso_total=('ingreso', 'sum'),\n",
        "        unidades=('cantidad', 'sum'),\n",
        "        precio_promedio=('precio', 'mean'),\n",
        "        registros=('ingreso', 'size')\n",
        "        )\n",
        "    .sort_values(\n",
        "        by='ingreso_total',\n",
        "        ascending=False,\n",
        "        na_position='last',\n",
        "        ignore_index=True\n",
        "    )\n",
        ")\n",
        "\n",
        "# Redondeo el 'precio_promedio'\n",
        "resumen_cat['precio_promedio'] = resumen_cat['precio_promedio'].round(2)\n",
        "\n",
        "\n",
        "# Muestro resultados\n",
        "print()\n",
        "print(\"**  Columna: Categoría  **\")\n",
        "print(\"Resumen por categoría (ordenado por ingreso_total):\")\n",
        "display(resumen_cat.head(20))"
      ]
    }
  ],
  "metadata": {
    "colab": {
      "private_outputs": true,
      "provenance": []
    },
    "kernelspec": {
      "display_name": "Python 3",
      "name": "python3"
    },
    "language_info": {
      "name": "python"
    }
  },
  "nbformat": 4,
  "nbformat_minor": 5
}
